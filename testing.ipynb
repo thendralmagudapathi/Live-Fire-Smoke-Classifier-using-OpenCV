{
 "cells": [
  {
   "cell_type": "code",
   "execution_count": 2,
   "metadata": {},
   "outputs": [],
   "source": [
    "from ultralytics import YOLO"
   ]
  },
  {
   "cell_type": "code",
   "execution_count": 5,
   "metadata": {},
   "outputs": [
    {
     "name": "stdout",
     "output_type": "stream",
     "text": [
      "\n",
      "image 1/1 E:\\Smoke\\fireimage.jpg: 512x640 (no detections), 89.7ms\n",
      "Speed: 2.0ms preprocess, 89.7ms inference, 0.0ms postprocess per image at shape (1, 3, 512, 640)\n",
      "Results saved to \u001b[1mruns\\detect\\predict3\u001b[0m\n"
     ]
    },
    {
     "data": {
      "text/plain": [
       "[ultralytics.engine.results.Results object with attributes:\n",
       " \n",
       " boxes: ultralytics.engine.results.Boxes object\n",
       " keypoints: None\n",
       " masks: None\n",
       " names: {0: 'Protective Helmet', 1: 'Shield', 2: 'Jacket', 3: 'Dust Mask', 4: 'Eye Wear', 5: 'Glove', 6: 'Protective Boots'}\n",
       " obb: None\n",
       " orig_img: array([[[150, 145, 144],\n",
       "         [150, 145, 144],\n",
       "         [148, 143, 142],\n",
       "         ...,\n",
       "         [ 95,  93,  93],\n",
       "         [ 95,  93,  93],\n",
       "         [ 95,  93,  93]],\n",
       " \n",
       "        [[150, 145, 144],\n",
       "         [150, 145, 144],\n",
       "         [148, 143, 142],\n",
       "         ...,\n",
       "         [ 95,  93,  93],\n",
       "         [ 95,  93,  93],\n",
       "         [ 95,  93,  93]],\n",
       " \n",
       "        [[150, 145, 144],\n",
       "         [150, 145, 144],\n",
       "         [148, 142, 143],\n",
       "         ...,\n",
       "         [ 95,  93,  93],\n",
       "         [ 95,  93,  93],\n",
       "         [ 95,  93,  93]],\n",
       " \n",
       "        ...,\n",
       " \n",
       "        [[ 56,  60,  65],\n",
       "         [ 63,  67,  72],\n",
       "         [ 45,  51,  56],\n",
       "         ...,\n",
       "         [115, 106, 103],\n",
       "         [116, 107, 104],\n",
       "         [117, 108, 105]],\n",
       " \n",
       "        [[ 42,  46,  51],\n",
       "         [ 51,  55,  60],\n",
       "         [ 36,  42,  47],\n",
       "         ...,\n",
       "         [116, 107, 104],\n",
       "         [117, 108, 105],\n",
       "         [118, 109, 106]],\n",
       " \n",
       "        [[ 31,  35,  40],\n",
       "         [ 43,  47,  52],\n",
       "         [ 31,  37,  42],\n",
       "         ...,\n",
       "         [104,  95,  92],\n",
       "         [105,  96,  93],\n",
       "         [106,  97,  94]]], dtype=uint8)\n",
       " orig_shape: (148, 187)\n",
       " path: 'E:\\\\Smoke\\\\fireimage.jpg'\n",
       " probs: None\n",
       " save_dir: 'runs\\\\detect\\\\predict3'\n",
       " speed: {'preprocess': 1.9931793212890625, 'inference': 89.70022201538086, 'postprocess': 0.0}]"
      ]
     },
     "execution_count": 5,
     "metadata": {},
     "output_type": "execute_result"
    }
   ],
   "source": [
    "model = YOLO(\"E:/Smoke/Final/forestfire.pt\")\n",
    "model.predict(source = \"E:/Smoke/fireimage.jpg\", imgsz = 640, conf = 0.9, save = True)"
   ]
  }
 ],
 "metadata": {
  "kernelspec": {
   "display_name": "torch",
   "language": "python",
   "name": "python3"
  },
  "language_info": {
   "codemirror_mode": {
    "name": "ipython",
    "version": 3
   },
   "file_extension": ".py",
   "mimetype": "text/x-python",
   "name": "python",
   "nbconvert_exporter": "python",
   "pygments_lexer": "ipython3",
   "version": "3.8.17"
  }
 },
 "nbformat": 4,
 "nbformat_minor": 2
}
